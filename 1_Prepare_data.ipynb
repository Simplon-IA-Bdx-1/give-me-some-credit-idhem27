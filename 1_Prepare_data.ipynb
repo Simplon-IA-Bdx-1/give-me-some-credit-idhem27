{
 "cells": [
  {
   "cell_type": "markdown",
   "metadata": {},
   "source": [
    "# Prepare Data "
   ]
  },
  {
   "cell_type": "markdown",
   "metadata": {},
   "source": [
    "## Import needed libraries"
   ]
  },
  {
   "cell_type": "code",
   "execution_count": 8,
   "metadata": {},
   "outputs": [],
   "source": [
    "import pandas as pd\n",
    "import numpy as np\n",
    "from sklearn.model_selection import train_test_split"
   ]
  },
  {
   "cell_type": "markdown",
   "metadata": {},
   "source": [
    "## Set seed for reproducibility"
   ]
  },
  {
   "cell_type": "markdown",
   "metadata": {},
   "source": [
    "We set a seed so that train_test_split function always do the same split."
   ]
  },
  {
   "cell_type": "code",
   "execution_count": 5,
   "metadata": {},
   "outputs": [],
   "source": [
    "SEED = 27\n",
    "np.random.seed(SEED)"
   ]
  },
  {
   "cell_type": "markdown",
   "metadata": {},
   "source": [
    "## Load data"
   ]
  },
  {
   "cell_type": "markdown",
   "metadata": {},
   "source": [
    "We load the train and test datasets provided by Kaggle from datasets/ directory and store them in dataframes."
   ]
  },
  {
   "cell_type": "code",
   "execution_count": 11,
   "metadata": {},
   "outputs": [],
   "source": [
    "train_full = pd.read_csv('./datasets/cs-training.csv')\n",
    "test = pd.read_csv('./datasets/cs-test.csv')"
   ]
  },
  {
   "cell_type": "markdown",
   "metadata": {},
   "source": [
    "## Change features"
   ]
  },
  {
   "cell_type": "markdown",
   "metadata": {},
   "source": [
    "After putting both dataframes in a list, we can modify them at the same time:\n",
    "- Name the first unnamed column 'Id'\n",
    "- Replace all 'Nan' values by 0\n",
    "- Create 'NumberOfTimes30DaysOrMoreLate' feature by adding 'NumberOfTime30-59DaysPastDueNotWorse', 'NumberOfTime60-89DaysPastDueNotWorse' and NumberOfTimes90DaysLate\n",
    "- Create 'IncomePerPerson' feature which is equal to 'MonthlyIncome'/('NumberOfDependents'+1)\n",
    "- Create 'MonthlyDebt' feature by multiplying 'DebtRatio' and 'MonthlyIncome'. We noticed some extravagant 'DebtRation' values so we decided that if 'DebtRatio'>=5 then 'MontlyDebt' get the value of 'DebtRatio'\n",
    "- Create 'MonthlyBalance' feature equal to 'MoonthlyIncome' - 'MonthlyDebt'"
   ]
  },
  {
   "cell_type": "code",
   "execution_count": 12,
   "metadata": {},
   "outputs": [],
   "source": [
    "dataframes = [train_full, test]\n",
    "for df in dataframes:\n",
    "    df.columns.values[0] = \"Id\"\n",
    "    df.fillna(0, inplace=True)\n",
    "    df['NumberOfTimes30DaysOrMoreLate'] = df['NumberOfTime30-59DaysPastDueNotWorse']+df['NumberOfTime60-89DaysPastDueNotWorse']+df['NumberOfTimes90DaysLate']\n",
    "    df['IncomePerPerson'] = df['MonthlyIncome']/(df['NumberOfDependents']+1)\n",
    "    df['MonthlyDebt'] = (\n",
    "        np.where(\n",
    "            df['DebtRatio']>=5,\n",
    "            df['DebtRatio'],\n",
    "            df['DebtRatio']*df['MonthlyIncome'],))\n",
    "    df['MonthlyBalance'] = df['MonthlyIncome']-df['MonthlyDebt'] "
   ]
  },
  {
   "cell_type": "markdown",
   "metadata": {},
   "source": [
    "## Train / Val Split"
   ]
  },
  {
   "cell_type": "code",
   "execution_count": 20,
   "metadata": {},
   "outputs": [],
   "source": [
    "VAL_SIZE = 0.3\n",
    "train, val = train_test_split(train_full, test_size=VAL_SIZE)"
   ]
  },
  {
   "cell_type": "markdown",
   "metadata": {},
   "source": [
    "We check the datasets shape to see if all went well"
   ]
  },
  {
   "cell_type": "code",
   "execution_count": 21,
   "metadata": {},
   "outputs": [
    {
     "name": "stdout",
     "output_type": "stream",
     "text": [
      "train_full shape: (150000, 16)\n",
      "train shape: (105000, 16)\n",
      "val shape: (45000, 16)\n"
     ]
    }
   ],
   "source": [
    "print(f\"train_full shape: {str(train_full.shape)}\")\n",
    "print(f\"train shape: {str(train.shape)}\")\n",
    "print(f\"val shape: {str(val.shape)}\")"
   ]
  },
  {
   "cell_type": "markdown",
   "metadata": {},
   "source": [
    "## Save Data"
   ]
  },
  {
   "cell_type": "code",
   "execution_count": 18,
   "metadata": {},
   "outputs": [],
   "source": [
    "train_full.to_csv('./datasets/trainfull.csv', index=False)\n",
    "test.to_csv('./datasets/test.csv', index=False)\n",
    "train.to_csv('./datasets/train.csv', index=False)\n",
    "val.to_csv('./datasets/val.csv', index=False)"
   ]
  }
 ],
 "metadata": {
  "kernelspec": {
   "display_name": "Python 3",
   "language": "python",
   "name": "python3"
  },
  "language_info": {
   "codemirror_mode": {
    "name": "ipython",
    "version": 3
   },
   "file_extension": ".py",
   "mimetype": "text/x-python",
   "name": "python",
   "nbconvert_exporter": "python",
   "pygments_lexer": "ipython3",
   "version": "3.7.3"
  },
  "toc": {
   "base_numbering": 1,
   "nav_menu": {},
   "number_sections": true,
   "sideBar": true,
   "skip_h1_title": false,
   "title_cell": "Table of Contents",
   "title_sidebar": "Contents",
   "toc_cell": false,
   "toc_position": {},
   "toc_section_display": true,
   "toc_window_display": true
  }
 },
 "nbformat": 4,
 "nbformat_minor": 2
}
