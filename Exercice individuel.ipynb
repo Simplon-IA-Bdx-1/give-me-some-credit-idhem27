{
 "cells": [
  {
   "cell_type": "markdown",
   "metadata": {},
   "source": [
    "Avec la commande %store model, j'ai stocké ma variable 'model' contenant mon model entraîné dans mon autre jupyter notebook.  \n",
    "Avec %store -r model, je peux la réutiliser ici"
   ]
  },
  {
   "cell_type": "code",
   "execution_count": 1,
   "metadata": {},
   "outputs": [],
   "source": [
    "%store -r model"
   ]
  },
  {
   "cell_type": "markdown",
   "metadata": {},
   "source": [
    "J'ajoute les features manquants:"
   ]
  },
  {
   "cell_type": "code",
   "execution_count": 2,
   "metadata": {},
   "outputs": [],
   "source": [
    "new_input = {\n",
    "    \"Id\": 1,\n",
    "    \"RevolvingUtilizationOfUnsecuredLines\": 0.01703559,\n",
    "    \"age\": 42,\n",
    "    \"NumberOfTime30-59DaysPastDueNotWorse\": 1,\n",
    "    \"DebtRatio\": 0,\n",
    "    \"MonthlyIncome\": 0,\n",
    "    \"NumberOfOpenCreditLinesAndLoans\": 6,\n",
    "    \"NumberOfTimes90DaysLate\": 0,\n",
    "    \"NumberRealEstateLoansOrLines\": 1,\n",
    "    \"NumberOfTime60-89DaysPastDueNotWorse\": 0,\n",
    "    \"NumberOfDependents\": 1,\n",
    "    \"NumberOfTimes30DaysOrMoreLate\": 1,\n",
    "    \"IncomePerPerson\": 0,\n",
    "    \"MonthlyDebt\": 0,\n",
    "    \"MonthlyBalance\":0\n",
    "}"
   ]
  },
  {
   "cell_type": "markdown",
   "metadata": {},
   "source": [
    "Je récupère les valeurs du dict new_input et les stock dans la liste new_input_list."
   ]
  },
  {
   "cell_type": "code",
   "execution_count": 4,
   "metadata": {},
   "outputs": [],
   "source": [
    "new_input_list = [new_input[key] for key in new_input]"
   ]
  },
  {
   "cell_type": "markdown",
   "metadata": {},
   "source": [
    "avec la fonction predict_proba de mon modèle, je récupère la probabilité de défaut de remboursement."
   ]
  },
  {
   "cell_type": "code",
   "execution_count": 5,
   "metadata": {},
   "outputs": [
    {
     "name": "stdout",
     "output_type": "stream",
     "text": [
      "Probabilité de défaut de remboursement: 4.74%\n"
     ]
    }
   ],
   "source": [
    "proba = model.predict_proba(new_input_list)[:,1][0]\n",
    "print(f\"Probabilité de défaut de remboursement: {round(proba*100, 3)}%\")"
   ]
  }
 ],
 "metadata": {
  "kernelspec": {
   "display_name": "Python 3",
   "language": "python",
   "name": "python3"
  },
  "language_info": {
   "codemirror_mode": {
    "name": "ipython",
    "version": 3
   },
   "file_extension": ".py",
   "mimetype": "text/x-python",
   "name": "python",
   "nbconvert_exporter": "python",
   "pygments_lexer": "ipython3",
   "version": "3.7.4"
  }
 },
 "nbformat": 4,
 "nbformat_minor": 2
}
