{
 "cells": [
  {
   "cell_type": "code",
   "execution_count": 27,
   "metadata": {},
   "outputs": [],
   "source": [
    "import pandas as pd"
   ]
  },
  {
   "cell_type": "markdown",
   "metadata": {},
   "source": [
    "Avec la commande %store model, j'ai stocké ma variable 'model' contenant mon model entraîné dans mon autre jupyter notebook.  \n",
    "Avec %store -r model, je peux la réutiliser ici"
   ]
  },
  {
   "cell_type": "code",
   "execution_count": 28,
   "metadata": {},
   "outputs": [],
   "source": [
    "%store -r model"
   ]
  },
  {
   "cell_type": "markdown",
   "metadata": {},
   "source": [
    "J'ajoute les features manquants:"
   ]
  },
  {
   "cell_type": "code",
   "execution_count": 29,
   "metadata": {
    "scrolled": true
   },
   "outputs": [
    {
     "data": {
      "text/plain": [
       "{'Id': 0,\n",
       " 'RevolvingUtilizationOfUnsecuredLines': 0.01703559,\n",
       " 'age': 42,\n",
       " 'NumberOfTime30-59DaysPastDueNotWorse': 1,\n",
       " 'DebtRatio': 0,\n",
       " 'MonthlyIncome': 0,\n",
       " 'NumberOfOpenCreditLinesAndLoans': 6,\n",
       " 'NumberOfTimes90DaysLate': 0,\n",
       " 'NumberRealEstateLoansOrLines': 1,\n",
       " 'NumberOfTime60-89DaysPastDueNotWorse': 0,\n",
       " 'NumberOfDependents': 1,\n",
       " 'NumberOfTimes30DaysOrMoreLate': 0,\n",
       " 'IncomePerPerson': 0,\n",
       " 'MonthlyDebt': 0,\n",
       " 'MonthlyBalance': 0}"
      ]
     },
     "execution_count": 29,
     "metadata": {},
     "output_type": "execute_result"
    }
   ],
   "source": [
    "new_input = {\n",
    "    \"RevolvingUtilizationOfUnsecuredLines\": 0.01703559,\n",
    "    \"NumberOfDependents\": 1,\n",
    "    \"DebtRatio\": 0,\n",
    "    \"age\": 42,\n",
    "    \"NumberOfOpenCreditLinesAndLoans\": 6,\n",
    "    \"NumberRealEstateLoansOrLines\": 1,\n",
    "    \"NumberOfTime30-59DaysPastDueNotWorse\": 1,\n",
    "    \"NumberOfTime60-89DaysPastDueNotWorse\": 0,\n",
    "    \"NumberOfTimes90DaysLate\": 0\n",
    "}\n",
    "features = [\"Id\", \"RevolvingUtilizationOfUnsecuredLines\", \"age\",\n",
    "            \"NumberOfTime30-59DaysPastDueNotWorse\",\n",
    "            \"DebtRatio\",\"MonthlyIncome\",\n",
    "            \"NumberOfOpenCreditLinesAndLoans\",\n",
    "            \"NumberOfTimes90DaysLate\",\n",
    "            \"NumberRealEstateLoansOrLines\",\n",
    "            \"NumberOfTime60-89DaysPastDueNotWorse\",\n",
    "            \"NumberOfDependents\",\n",
    "            \"NumberOfTimes30DaysOrMoreLate\",\n",
    "            \"IncomePerPerson\",\"MonthlyDebt\",\n",
    "            \"MonthlyBalance\"\n",
    "           ]\n",
    "\n",
    "for key in features:\n",
    "    if key not in new_input.keys():\n",
    "        new_input[key] = 0\n",
    "\n",
    "new_input_df = pd.DataFrame(new_input, index=[0])\n",
    "new_input_df = new_input_df[[\"Id\", \"RevolvingUtilizationOfUnsecuredLines\", \"age\",\n",
    "            \"NumberOfTime30-59DaysPastDueNotWorse\",\n",
    "            \"DebtRatio\",\"MonthlyIncome\",\n",
    "            \"NumberOfOpenCreditLinesAndLoans\",\n",
    "            \"NumberOfTimes90DaysLate\",\n",
    "            \"NumberRealEstateLoansOrLines\",\n",
    "            \"NumberOfTime60-89DaysPastDueNotWorse\",\n",
    "            \"NumberOfDependents\",\n",
    "            \"NumberOfTimes30DaysOrMoreLate\",\n",
    "            \"IncomePerPerson\",\"MonthlyDebt\",\n",
    "            \"MonthlyBalance\"]]\n",
    "\n",
    "new_input_dict = new_input_df.to_dict(orient='index')\n",
    "new_input_dict = new_input_dict[0]\n",
    "new_input_dict"
   ]
  },
  {
   "cell_type": "markdown",
   "metadata": {},
   "source": [
    "Je récupère les valeurs du dict new_input et les stock dans la liste new_input_list."
   ]
  },
  {
   "cell_type": "code",
   "execution_count": 35,
   "metadata": {},
   "outputs": [],
   "source": [
    "new_input_list = [new_input_dict[key] for key in new_input_dict]\n",
    "new_input_list\n",
    "y_test = [0]"
   ]
  },
  {
   "cell_type": "markdown",
   "metadata": {},
   "source": [
    "avec la fonction predict_proba de mon modèle, je récupère la probabilité de défaut de remboursement."
   ]
  },
  {
   "cell_type": "code",
   "execution_count": 43,
   "metadata": {},
   "outputs": [
    {
     "name": "stdout",
     "output_type": "stream",
     "text": [
      "Le modèle prédit : 0\n",
      "Probabilité de défaut de remboursement: 1.2233107350766659%\n"
     ]
    }
   ],
   "source": [
    "predict = model.predict(new_input_list)[0]\n",
    "proba = model.predict_proba(new_input_list)[:,1][0]\n",
    "print(f\"Le modèle prédit : {predict}\")\n",
    "print(f\"Probabilité de défaut de remboursement: {proba*100}%\")"
   ]
  }
 ],
 "metadata": {
  "kernelspec": {
   "display_name": "Python 3",
   "language": "python",
   "name": "python3"
  },
  "language_info": {
   "codemirror_mode": {
    "name": "ipython",
    "version": 3
   },
   "file_extension": ".py",
   "mimetype": "text/x-python",
   "name": "python",
   "nbconvert_exporter": "python",
   "pygments_lexer": "ipython3",
   "version": "3.7.4"
  }
 },
 "nbformat": 4,
 "nbformat_minor": 2
}
